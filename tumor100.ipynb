{
 "cells": [
  {
   "cell_type": "code",
   "execution_count": 1,
   "id": "64f0cd30",
   "metadata": {},
   "outputs": [
    {
     "name": "stdout",
     "output_type": "stream",
     "text": [
      "WARNING:tensorflow:From C:\\Users\\yash\\anaconda3\\Lib\\site-packages\\keras\\src\\losses.py:2976: The name tf.losses.sparse_softmax_cross_entropy is deprecated. Please use tf.compat.v1.losses.sparse_softmax_cross_entropy instead.\n",
      "\n"
     ]
    }
   ],
   "source": [
    "import tensorflow as tf"
   ]
  },
  {
   "cell_type": "code",
   "execution_count": 2,
   "id": "5575898b",
   "metadata": {},
   "outputs": [],
   "source": [
    "import os"
   ]
  },
  {
   "cell_type": "code",
   "execution_count": 3,
   "id": "9837c53a",
   "metadata": {},
   "outputs": [
    {
     "name": "stdout",
     "output_type": "stream",
     "text": [
      "train100\\Benign100\n",
      "0\n",
      "train100\\Malignant100\n",
      "1\n"
     ]
    }
   ],
   "source": [
    "categories=['Benign100','Malignant100']\n",
    "\n",
    "data = []\n",
    "\n",
    "# Loop through each category\n",
    "for category in categories:\n",
    "    path = os.path.join('train100', category)  # Assuming the folders are in the root of your Google Drive\n",
    "    print(path)\n",
    "    label = categories.index(category)\n",
    "    print(label)"
   ]
  },
  {
   "cell_type": "code",
   "execution_count": 3,
   "id": "73aef96e",
   "metadata": {},
   "outputs": [],
   "source": [
    "import cv2\n",
    "\n",
    "# Define the categories\n",
    "categories=['Benign100','Malignant100']\n",
    "\n",
    "data = []\n",
    "\n",
    "# Loop through each category\n",
    "for category in categories:\n",
    "    path = os.path.join('train100', category)  # Assuming the folders are in the root of your Google Drive\n",
    "    label = categories.index(category)\n",
    "\n",
    "    # Loop through each file in the category folder\n",
    "    for file in os.listdir(path):\n",
    "        img_path = os.path.join(path, file)\n",
    "\n",
    "        # Read the image\n",
    "        img = cv2.imread(img_path)\n",
    "\n",
    "        # Resize the image to 224x224\n",
    "        try:\n",
    "            img = cv2.resize(img, (224, 224))\n",
    "        except Exception as e:\n",
    "            print(f\"Error processing {img_path}: {str(e)}\")\n",
    "            continue\n",
    "\n",
    "        # Append the image and its label to the data list\n",
    "        data.append([img, label])\n",
    "\n",
    "# Now you have a list 'data' containing image-label pairs\n",
    "# Each element of 'data' is a list [image, label], where 'image' is a numpy array and 'label' is an integer\n",
    "# You can further process this data for your machine learning model\n"
   ]
  },
  {
   "cell_type": "code",
   "execution_count": 4,
   "id": "e5fd4542",
   "metadata": {},
   "outputs": [
    {
     "data": {
      "text/plain": [
       "220"
      ]
     },
     "execution_count": 4,
     "metadata": {},
     "output_type": "execute_result"
    }
   ],
   "source": [
    "#how many images inthe dataset\n",
    "len(data)"
   ]
  },
  {
   "cell_type": "code",
   "execution_count": 5,
   "id": "1ac14516",
   "metadata": {},
   "outputs": [],
   "source": [
    "import random\n",
    "random.shuffle(data)"
   ]
  },
  {
   "cell_type": "code",
   "execution_count": 6,
   "id": "8c3ca0ee",
   "metadata": {},
   "outputs": [],
   "source": [
    "#split the input\n",
    "X=[]\n",
    "Y=[]\n",
    "for feature,label in data:\n",
    "    X.append(feature)\n",
    "    Y.append(label)"
   ]
  },
  {
   "cell_type": "code",
   "execution_count": 7,
   "id": "cf7ea80d",
   "metadata": {},
   "outputs": [
    {
     "name": "stdout",
     "output_type": "stream",
     "text": [
      "Counter({0: 110, 1: 110})\n"
     ]
    }
   ],
   "source": [
    "from collections import Counter\n",
    "\n",
    "label_counts = Counter(Y)\n",
    "print(label_counts)"
   ]
  },
  {
   "cell_type": "code",
   "execution_count": 8,
   "id": "6d35053c",
   "metadata": {},
   "outputs": [
    {
     "data": {
      "text/plain": [
       "(220, 220)"
      ]
     },
     "execution_count": 8,
     "metadata": {},
     "output_type": "execute_result"
    }
   ],
   "source": [
    "len(X),len(Y)"
   ]
  },
  {
   "cell_type": "code",
   "execution_count": 9,
   "id": "9ae2d1a2",
   "metadata": {},
   "outputs": [],
   "source": [
    "import numpy as np\n",
    "#convert numpy array (x 2d and y 1d)\n",
    "X=np.array(X)\n",
    "Y=np.array(Y)"
   ]
  },
  {
   "cell_type": "code",
   "execution_count": 10,
   "id": "9395d960",
   "metadata": {},
   "outputs": [
    {
     "data": {
      "text/plain": [
       "(220, 224, 224, 3)"
      ]
     },
     "execution_count": 10,
     "metadata": {},
     "output_type": "execute_result"
    }
   ],
   "source": [
    "X.shape"
   ]
  },
  {
   "cell_type": "code",
   "execution_count": 11,
   "id": "67e874e2",
   "metadata": {},
   "outputs": [
    {
     "data": {
      "text/plain": [
       "4"
      ]
     },
     "execution_count": 11,
     "metadata": {},
     "output_type": "execute_result"
    }
   ],
   "source": [
    "X.ndim"
   ]
  },
  {
   "cell_type": "code",
   "execution_count": 12,
   "id": "d5c6c642",
   "metadata": {},
   "outputs": [],
   "source": [
    "#scaler :min max scaler\n",
    "#RGB (0-255,0-255,0-255)\n",
    "X=X/255"
   ]
  },
  {
   "cell_type": "code",
   "execution_count": 13,
   "id": "de6507ef",
   "metadata": {},
   "outputs": [
    {
     "name": "stdout",
     "output_type": "stream",
     "text": [
      "Counter({0: 110, 1: 110})\n"
     ]
    }
   ],
   "source": [
    "from collections import Counter\n",
    "\n",
    "label_counts = Counter(Y)\n",
    "print(label_counts)"
   ]
  },
  {
   "cell_type": "code",
   "execution_count": 14,
   "id": "95689573",
   "metadata": {},
   "outputs": [],
   "source": [
    "from sklearn.model_selection import train_test_split\n",
    "x_train,x_test,y_train,y_test=train_test_split(X,Y,test_size=0.3,random_state=1)"
   ]
  },
  {
   "cell_type": "code",
   "execution_count": 15,
   "id": "6e8230d0",
   "metadata": {},
   "outputs": [
    {
     "data": {
      "text/plain": [
       "(154, 224, 224, 3)"
      ]
     },
     "execution_count": 15,
     "metadata": {},
     "output_type": "execute_result"
    }
   ],
   "source": [
    "x_train.shape"
   ]
  },
  {
   "cell_type": "code",
   "execution_count": 16,
   "id": "8ff1922b",
   "metadata": {},
   "outputs": [
    {
     "data": {
      "text/plain": [
       "(66, 224, 224, 3)"
      ]
     },
     "execution_count": 16,
     "metadata": {},
     "output_type": "execute_result"
    }
   ],
   "source": [
    "x_test.shape"
   ]
  },
  {
   "cell_type": "code",
   "execution_count": 17,
   "id": "31d273aa",
   "metadata": {},
   "outputs": [],
   "source": [
    "import tensorflow as tf\n",
    "from tensorflow import keras"
   ]
  },
  {
   "cell_type": "code",
   "execution_count": 18,
   "id": "f8ff2cc9",
   "metadata": {},
   "outputs": [
    {
     "name": "stdout",
     "output_type": "stream",
     "text": [
      "WARNING:tensorflow:From C:\\Users\\yash\\anaconda3\\Lib\\site-packages\\keras\\src\\backend.py:873: The name tf.get_default_graph is deprecated. Please use tf.compat.v1.get_default_graph instead.\n",
      "\n",
      "WARNING:tensorflow:From C:\\Users\\yash\\anaconda3\\Lib\\site-packages\\keras\\src\\layers\\pooling\\max_pooling2d.py:161: The name tf.nn.max_pool is deprecated. Please use tf.nn.max_pool2d instead.\n",
      "\n"
     ]
    }
   ],
   "source": [
    "# CNN Model building\n",
    "model = keras.models.Sequential([\n",
    "    keras.layers.Conv2D(filters=32, kernel_size=(3, 3), strides=(1, 1), padding='valid',\n",
    "                        activation='relu', input_shape=(224, 224, 3)),\n",
    "    keras.layers.MaxPooling2D(pool_size=(2, 2)),\n",
    "    keras.layers.Flatten(),\n",
    "    keras.layers.Dense(units=128, activation='relu'),\n",
    "    keras.layers.Dense(units=1, activation='sigmoid')\n",
    "])"
   ]
  },
  {
   "cell_type": "code",
   "execution_count": 19,
   "id": "0ec91679",
   "metadata": {},
   "outputs": [
    {
     "name": "stdout",
     "output_type": "stream",
     "text": [
      "WARNING:tensorflow:From C:\\Users\\yash\\anaconda3\\Lib\\site-packages\\keras\\src\\optimizers\\__init__.py:309: The name tf.train.Optimizer is deprecated. Please use tf.compat.v1.train.Optimizer instead.\n",
      "\n"
     ]
    }
   ],
   "source": [
    "model.compile(optimizer='Adam',loss='binary_crossentropy',metrics=['accuracy'])"
   ]
  },
  {
   "cell_type": "code",
   "execution_count": 20,
   "id": "7f1c74e0",
   "metadata": {},
   "outputs": [
    {
     "name": "stdout",
     "output_type": "stream",
     "text": [
      "Epoch 1/15\n",
      "WARNING:tensorflow:From C:\\Users\\yash\\anaconda3\\Lib\\site-packages\\keras\\src\\utils\\tf_utils.py:492: The name tf.ragged.RaggedTensorValue is deprecated. Please use tf.compat.v1.ragged.RaggedTensorValue instead.\n",
      "\n",
      "WARNING:tensorflow:From C:\\Users\\yash\\anaconda3\\Lib\\site-packages\\keras\\src\\engine\\base_layer_utils.py:384: The name tf.executing_eagerly_outside_functions is deprecated. Please use tf.compat.v1.executing_eagerly_outside_functions instead.\n",
      "\n",
      "5/5 [==============================] - 4s 562ms/step - loss: 29.3334 - accuracy: 0.4481 - val_loss: 25.0407 - val_accuracy: 0.4394\n",
      "Epoch 2/15\n",
      "5/5 [==============================] - 2s 492ms/step - loss: 11.3300 - accuracy: 0.5519 - val_loss: 2.9106 - val_accuracy: 0.5606\n",
      "Epoch 3/15\n",
      "5/5 [==============================] - 2s 476ms/step - loss: 3.0963 - accuracy: 0.4740 - val_loss: 1.3102 - val_accuracy: 0.4394\n",
      "Epoch 4/15\n",
      "5/5 [==============================] - 2s 483ms/step - loss: 1.6246 - accuracy: 0.5260 - val_loss: 0.9888 - val_accuracy: 0.4242\n",
      "Epoch 5/15\n",
      "5/5 [==============================] - 2s 488ms/step - loss: 1.0403 - accuracy: 0.5455 - val_loss: 0.7572 - val_accuracy: 0.6515\n",
      "Epoch 6/15\n",
      "5/5 [==============================] - 3s 528ms/step - loss: 0.9565 - accuracy: 0.5390 - val_loss: 0.5618 - val_accuracy: 0.7424\n",
      "Epoch 7/15\n",
      "5/5 [==============================] - 2s 490ms/step - loss: 0.6623 - accuracy: 0.7078 - val_loss: 0.7077 - val_accuracy: 0.6515\n",
      "Epoch 8/15\n",
      "5/5 [==============================] - 2s 485ms/step - loss: 0.5623 - accuracy: 0.6558 - val_loss: 0.5086 - val_accuracy: 0.8030\n",
      "Epoch 9/15\n",
      "5/5 [==============================] - 2s 472ms/step - loss: 0.4821 - accuracy: 0.7403 - val_loss: 0.6176 - val_accuracy: 0.6364\n",
      "Epoch 10/15\n",
      "5/5 [==============================] - 2s 482ms/step - loss: 0.4331 - accuracy: 0.8182 - val_loss: 0.5587 - val_accuracy: 0.6970\n",
      "Epoch 11/15\n",
      "5/5 [==============================] - 2s 484ms/step - loss: 0.6000 - accuracy: 0.6818 - val_loss: 0.5600 - val_accuracy: 0.7576\n",
      "Epoch 12/15\n",
      "5/5 [==============================] - 2s 479ms/step - loss: 0.5012 - accuracy: 0.7597 - val_loss: 0.7900 - val_accuracy: 0.5758\n",
      "Epoch 13/15\n",
      "5/5 [==============================] - 2s 485ms/step - loss: 0.3991 - accuracy: 0.7857 - val_loss: 0.7359 - val_accuracy: 0.6364\n",
      "Epoch 14/15\n",
      "5/5 [==============================] - 2s 497ms/step - loss: 0.3787 - accuracy: 0.8247 - val_loss: 0.7190 - val_accuracy: 0.5909\n",
      "Epoch 15/15\n",
      "5/5 [==============================] - 2s 484ms/step - loss: 0.3280 - accuracy: 0.8377 - val_loss: 0.4728 - val_accuracy: 0.8485\n"
     ]
    }
   ],
   "source": [
    "trained_model= model.fit(x_train,y_train,epochs=15,validation_data=(x_test,y_test))"
   ]
  },
  {
   "cell_type": "code",
   "execution_count": 21,
   "id": "77015fcc",
   "metadata": {},
   "outputs": [
    {
     "name": "stdout",
     "output_type": "stream",
     "text": [
      "5/5 [==============================] - 0s 57ms/step - loss: 0.2719 - accuracy: 0.8831\n",
      "print train_loss and Train_accuarcay [0.27189379930496216, 0.8831169009208679]\n",
      "3/3 [==============================] - 0s 43ms/step - loss: 0.4728 - accuracy: 0.8485\n",
      "print test_loss and Test_accuarcay [0.4728214144706726, 0.8484848737716675]\n"
     ]
    }
   ],
   "source": [
    "print(\"print train_loss and Train_accuarcay\",model.evaluate(x_train,y_train))\n",
    "print(\"print test_loss and Test_accuarcay\",model.evaluate(x_test,y_test))"
   ]
  },
  {
   "cell_type": "code",
   "execution_count": 22,
   "id": "7b2202ae",
   "metadata": {},
   "outputs": [
    {
     "data": {
      "image/png": "[encoded data removed]",
      "text/plain": [
       "<Figure size 640x480 with 1 Axes>"
      ]
     },
     "metadata": {},
     "output_type": "display_data"
    }
   ],
   "source": [
    "import matplotlib.pyplot as plt\n",
    "plt.plot(trained_model.history['loss'],label='Training loss')\n",
    "plt.plot(trained_model.history['val_loss'],label='Testing loss')\n",
    "plt.xlabel(\"No. of Epochs\")\n",
    "plt.ylabel('Binary cross Entropy')\n",
    "plt.legend()\n",
    "plt.show()"
   ]
  },
  {
   "cell_type": "code",
   "execution_count": 23,
   "id": "a05be432",
   "metadata": {},
   "outputs": [
    {
     "data": {
      "image/png": "[encoded data removed]",
      "text/plain": [
       "<Figure size 640x480 with 1 Axes>"
      ]
     },
     "metadata": {},
     "output_type": "display_data"
    }
   ],
   "source": [
    "#visulisation of training and testing accuracy\n",
    "plt.plot(trained_model.history['accuracy'],label='Training Accuracy')\n",
    "plt.plot(trained_model.history['val_accuracy'],label='Testing Accuracy')\n",
    "plt.xlabel(\"No. of Epochs\")\n",
    "plt.ylabel('Binary cross Entropy Accuracy of model')\n",
    "plt.legend()\n",
    "plt.show()"
   ]
  },
  {
   "cell_type": "code",
   "execution_count": 24,
   "id": "50be633e",
   "metadata": {},
   "outputs": [
    {
     "name": "stdout",
     "output_type": "stream",
     "text": [
      "3/3 [==============================] - 0s 37ms/step\n"
     ]
    },
    {
     "data": {
      "text/plain": [
       "array([[0.39557546],\n",
       "       [0.24776621],\n",
       "       [0.8450835 ],\n",
       "       [0.07756594],\n",
       "       [0.02372544],\n",
       "       [0.27115592],\n",
       "       [0.03270687],\n",
       "       [0.05051566],\n",
       "       [0.8180627 ],\n",
       "       [0.582468  ],\n",
       "       [0.5137683 ],\n",
       "       [0.8436064 ],\n",
       "       [0.04675326],\n",
       "       [0.03027824],\n",
       "       [0.45535776],\n",
       "       [0.69521713],\n",
       "       [0.1697    ],\n",
       "       [0.6437032 ],\n",
       "       [0.8936659 ],\n",
       "       [0.12858012],\n",
       "       [0.9479705 ],\n",
       "       [0.03234708],\n",
       "       [0.4166601 ],\n",
       "       [0.8147375 ],\n",
       "       [0.90011084],\n",
       "       [0.06471293],\n",
       "       [0.92875105],\n",
       "       [0.9531938 ],\n",
       "       [0.04918664],\n",
       "       [0.38359666],\n",
       "       [0.12144105],\n",
       "       [0.4773592 ],\n",
       "       [0.599278  ],\n",
       "       [0.1983125 ],\n",
       "       [0.6315776 ],\n",
       "       [0.10251111],\n",
       "       [0.5606488 ],\n",
       "       [0.5255797 ],\n",
       "       [0.04378787],\n",
       "       [0.14763916],\n",
       "       [0.9044537 ],\n",
       "       [0.72338635],\n",
       "       [0.08638365],\n",
       "       [0.69992125],\n",
       "       [0.36606562],\n",
       "       [0.44336912],\n",
       "       [0.03593299],\n",
       "       [0.02171622],\n",
       "       [0.1064065 ],\n",
       "       [0.04486664],\n",
       "       [0.5599685 ],\n",
       "       [0.91959983],\n",
       "       [0.07910817],\n",
       "       [0.5935276 ],\n",
       "       [0.31807   ],\n",
       "       [0.7524712 ],\n",
       "       [0.21969531],\n",
       "       [0.80069894],\n",
       "       [0.64395964],\n",
       "       [0.02376834],\n",
       "       [0.9407161 ],\n",
       "       [0.5057272 ],\n",
       "       [0.6694841 ],\n",
       "       [0.96889323],\n",
       "       [0.43802178],\n",
       "       [0.57987267]], dtype=float32)"
      ]
     },
     "execution_count": 24,
     "metadata": {},
     "output_type": "execute_result"
    }
   ],
   "source": [
    "y_pred=model.predict(x_test)\n",
    "y_pred"
   ]
  },
  {
   "cell_type": "code",
   "execution_count": 25,
   "id": "bd81da9a",
   "metadata": {},
   "outputs": [
    {
     "name": "stdout",
     "output_type": "stream",
     "text": [
      "3/3 [==============================] - 0s 44ms/step\n"
     ]
    },
    {
     "data": {
      "text/plain": [
       "array([[0.4 ],\n",
       "       [0.25],\n",
       "       [0.85],\n",
       "       [0.08],\n",
       "       [0.02],\n",
       "       [0.27],\n",
       "       [0.03],\n",
       "       [0.05],\n",
       "       [0.82],\n",
       "       [0.58],\n",
       "       [0.51],\n",
       "       [0.84],\n",
       "       [0.05],\n",
       "       [0.03],\n",
       "       [0.46],\n",
       "       [0.7 ],\n",
       "       [0.17],\n",
       "       [0.64],\n",
       "       [0.89],\n",
       "       [0.13],\n",
       "       [0.95],\n",
       "       [0.03],\n",
       "       [0.42],\n",
       "       [0.81],\n",
       "       [0.9 ],\n",
       "       [0.06],\n",
       "       [0.93],\n",
       "       [0.95],\n",
       "       [0.05],\n",
       "       [0.38],\n",
       "       [0.12],\n",
       "       [0.48],\n",
       "       [0.6 ],\n",
       "       [0.2 ],\n",
       "       [0.63],\n",
       "       [0.1 ],\n",
       "       [0.56],\n",
       "       [0.53],\n",
       "       [0.04],\n",
       "       [0.15],\n",
       "       [0.9 ],\n",
       "       [0.72],\n",
       "       [0.09],\n",
       "       [0.7 ],\n",
       "       [0.37],\n",
       "       [0.44],\n",
       "       [0.04],\n",
       "       [0.02],\n",
       "       [0.11],\n",
       "       [0.04],\n",
       "       [0.56],\n",
       "       [0.92],\n",
       "       [0.08],\n",
       "       [0.59],\n",
       "       [0.32],\n",
       "       [0.75],\n",
       "       [0.22],\n",
       "       [0.8 ],\n",
       "       [0.64],\n",
       "       [0.02],\n",
       "       [0.94],\n",
       "       [0.51],\n",
       "       [0.67],\n",
       "       [0.97],\n",
       "       [0.44],\n",
       "       [0.58]], dtype=float32)"
      ]
     },
     "execution_count": 25,
     "metadata": {},
     "output_type": "execute_result"
    }
   ],
   "source": [
    "y_pred=model.predict(x_test).round(2)\n",
    "y_pred"
   ]
  },
  {
   "cell_type": "code",
   "execution_count": 26,
   "id": "b03079b7",
   "metadata": {},
   "outputs": [
    {
     "data": {
      "text/plain": [
       "array([[0],\n",
       "       [0],\n",
       "       [1],\n",
       "       [0],\n",
       "       [0],\n",
       "       [0],\n",
       "       [0],\n",
       "       [0],\n",
       "       [1],\n",
       "       [1],\n",
       "       [1],\n",
       "       [1],\n",
       "       [0],\n",
       "       [0],\n",
       "       [0],\n",
       "       [1],\n",
       "       [0],\n",
       "       [1],\n",
       "       [1],\n",
       "       [0],\n",
       "       [1],\n",
       "       [0],\n",
       "       [0],\n",
       "       [1],\n",
       "       [1],\n",
       "       [0],\n",
       "       [1],\n",
       "       [1],\n",
       "       [0],\n",
       "       [0],\n",
       "       [0],\n",
       "       [0],\n",
       "       [1],\n",
       "       [0],\n",
       "       [1],\n",
       "       [0],\n",
       "       [1],\n",
       "       [1],\n",
       "       [0],\n",
       "       [0],\n",
       "       [1],\n",
       "       [1],\n",
       "       [0],\n",
       "       [1],\n",
       "       [0],\n",
       "       [0],\n",
       "       [0],\n",
       "       [0],\n",
       "       [0],\n",
       "       [0],\n",
       "       [1],\n",
       "       [1],\n",
       "       [0],\n",
       "       [1],\n",
       "       [0],\n",
       "       [1],\n",
       "       [0],\n",
       "       [1],\n",
       "       [1],\n",
       "       [0],\n",
       "       [1],\n",
       "       [1],\n",
       "       [1],\n",
       "       [1],\n",
       "       [0],\n",
       "       [1]])"
      ]
     },
     "execution_count": 26,
     "metadata": {},
     "output_type": "execute_result"
    }
   ],
   "source": [
    "y_pred=np.where(y_pred>=0.5,1,0)\n",
    "y_pred"
   ]
  },
  {
   "cell_type": "code",
   "execution_count": 27,
   "id": "e3fe5f20",
   "metadata": {},
   "outputs": [],
   "source": [
    "from sklearn.metrics import classification_report,confusion_matrix"
   ]
  },
  {
   "cell_type": "code",
   "execution_count": 28,
   "id": "c7757e23",
   "metadata": {},
   "outputs": [
    {
     "name": "stdout",
     "output_type": "stream",
     "text": [
      "              precision    recall  f1-score   support\n",
      "\n",
      "           0       0.77      0.93      0.84        29\n",
      "           1       0.94      0.78      0.85        37\n",
      "\n",
      "    accuracy                           0.85        66\n",
      "   macro avg       0.85      0.86      0.85        66\n",
      "weighted avg       0.86      0.85      0.85        66\n",
      "\n"
     ]
    }
   ],
   "source": [
    "print(classification_report(y_test,y_pred))"
   ]
  },
  {
   "cell_type": "code",
   "execution_count": 29,
   "id": "a3d279dd",
   "metadata": {},
   "outputs": [
    {
     "name": "stdout",
     "output_type": "stream",
     "text": [
      "[[27  2]\n",
      " [ 8 29]]\n"
     ]
    }
   ],
   "source": [
    "print(confusion_matrix(y_test,y_pred))"
   ]
  },
  {
   "cell_type": "code",
   "execution_count": 31,
   "id": "997131e3",
   "metadata": {},
   "outputs": [],
   "source": [
    "import pickle"
   ]
  },
  {
   "cell_type": "code",
   "execution_count": 32,
   "id": "01968d56",
   "metadata": {},
   "outputs": [],
   "source": [
    "pickle.dump(model,open('model100-85.sav','wb'))"
   ]
  },
  {
   "cell_type": "code",
   "execution_count": 4,
   "id": "2bdb7722",
   "metadata": {},
   "outputs": [
    {
     "name": "stdout",
     "output_type": "stream",
     "text": [
      "[[[0.49803922 0.45882353 0.62745098]\n",
      "  [0.50196078 0.4627451  0.63137255]\n",
      "  [0.50196078 0.4627451  0.63137255]\n",
      "  ...\n",
      "  [0.39607843 0.37647059 0.55294118]\n",
      "  [0.34509804 0.3254902  0.50196078]\n",
      "  [0.36470588 0.34509804 0.52156863]]\n",
      "\n",
      " [[0.49411765 0.45490196 0.62352941]\n",
      "  [0.49803922 0.45882353 0.62745098]\n",
      "  [0.50196078 0.4627451  0.63137255]\n",
      "  ...\n",
      "  [0.36470588 0.34509804 0.52156863]\n",
      "  [0.34117647 0.32156863 0.49803922]\n",
      "  [0.37647059 0.35686275 0.53333333]]\n",
      "\n",
      " [[0.48627451 0.44705882 0.61568627]\n",
      "  [0.49411765 0.45490196 0.62352941]\n",
      "  [0.49803922 0.45882353 0.62745098]\n",
      "  ...\n",
      "  [0.35686275 0.32941176 0.50588235]\n",
      "  [0.38039216 0.35294118 0.52941176]\n",
      "  [0.40784314 0.38039216 0.55686275]]\n",
      "\n",
      " ...\n",
      "\n",
      " [[0.37647059 0.33333333 0.52941176]\n",
      "  [0.38431373 0.34117647 0.5372549 ]\n",
      "  [0.38823529 0.34509804 0.54117647]\n",
      "  ...\n",
      "  [0.40784314 0.39607843 0.57647059]\n",
      "  [0.4        0.38823529 0.56862745]\n",
      "  [0.39607843 0.38431373 0.56470588]]\n",
      "\n",
      " [[0.38039216 0.3372549  0.53333333]\n",
      "  [0.38823529 0.34509804 0.54117647]\n",
      "  [0.40392157 0.36078431 0.55686275]\n",
      "  ...\n",
      "  [0.40784314 0.39607843 0.57647059]\n",
      "  [0.4        0.38823529 0.56862745]\n",
      "  [0.39607843 0.38431373 0.56470588]]\n",
      "\n",
      " [[0.41176471 0.36862745 0.56470588]\n",
      "  [0.42745098 0.38431373 0.58039216]\n",
      "  [0.44313725 0.4        0.59607843]\n",
      "  ...\n",
      "  [0.40392157 0.39215686 0.57254902]\n",
      "  [0.4        0.38823529 0.56862745]\n",
      "  [0.39607843 0.38431373 0.56470588]]]\n",
      "[[[[0.49803922 0.45882353 0.62745098]\n",
      "   [0.50196078 0.4627451  0.63137255]\n",
      "   [0.50196078 0.4627451  0.63137255]\n",
      "   ...\n",
      "   [0.39607843 0.37647059 0.55294118]\n",
      "   [0.34509804 0.3254902  0.50196078]\n",
      "   [0.36470588 0.34509804 0.52156863]]\n",
      "\n",
      "  [[0.49411765 0.45490196 0.62352941]\n",
      "   [0.49803922 0.45882353 0.62745098]\n",
      "   [0.50196078 0.4627451  0.63137255]\n",
      "   ...\n",
      "   [0.36470588 0.34509804 0.52156863]\n",
      "   [0.34117647 0.32156863 0.49803922]\n",
      "   [0.37647059 0.35686275 0.53333333]]\n",
      "\n",
      "  [[0.48627451 0.44705882 0.61568627]\n",
      "   [0.49411765 0.45490196 0.62352941]\n",
      "   [0.49803922 0.45882353 0.62745098]\n",
      "   ...\n",
      "   [0.35686275 0.32941176 0.50588235]\n",
      "   [0.38039216 0.35294118 0.52941176]\n",
      "   [0.40784314 0.38039216 0.55686275]]\n",
      "\n",
      "  ...\n",
      "\n",
      "  [[0.37647059 0.33333333 0.52941176]\n",
      "   [0.38431373 0.34117647 0.5372549 ]\n",
      "   [0.38823529 0.34509804 0.54117647]\n",
      "   ...\n",
      "   [0.40784314 0.39607843 0.57647059]\n",
      "   [0.4        0.38823529 0.56862745]\n",
      "   [0.39607843 0.38431373 0.56470588]]\n",
      "\n",
      "  [[0.38039216 0.3372549  0.53333333]\n",
      "   [0.38823529 0.34509804 0.54117647]\n",
      "   [0.40392157 0.36078431 0.55686275]\n",
      "   ...\n",
      "   [0.40784314 0.39607843 0.57647059]\n",
      "   [0.4        0.38823529 0.56862745]\n",
      "   [0.39607843 0.38431373 0.56470588]]\n",
      "\n",
      "  [[0.41176471 0.36862745 0.56470588]\n",
      "   [0.42745098 0.38431373 0.58039216]\n",
      "   [0.44313725 0.4        0.59607843]\n",
      "   ...\n",
      "   [0.40392157 0.39215686 0.57254902]\n",
      "   [0.4        0.38823529 0.56862745]\n",
      "   [0.39607843 0.38431373 0.56470588]]]]\n"
     ]
    },
    {
     "ename": "NameError",
     "evalue": "name 'model' is not defined",
     "output_type": "error",
     "traceback": [
      "\u001b[1;31m---------------------------------------------------------------------------\u001b[0m",
      "\u001b[1;31mNameError\u001b[0m                                 Traceback (most recent call last)",
      "Cell \u001b[1;32mIn[4], line 15\u001b[0m\n\u001b[0;32m     13\u001b[0m input_image_reshaped \u001b[38;5;241m=\u001b[39m np\u001b[38;5;241m.\u001b[39mreshape(input_image_scaled, [\u001b[38;5;241m1\u001b[39m,\u001b[38;5;241m224\u001b[39m,\u001b[38;5;241m224\u001b[39m,\u001b[38;5;241m3\u001b[39m])\n\u001b[0;32m     14\u001b[0m \u001b[38;5;28mprint\u001b[39m(input_image_reshaped)\n\u001b[1;32m---> 15\u001b[0m input_prediction \u001b[38;5;241m=\u001b[39m model\u001b[38;5;241m.\u001b[39mpredict(input_image_reshaped)\n\u001b[0;32m     16\u001b[0m \u001b[38;5;28mprint\u001b[39m(input_prediction)\n\u001b[0;32m     17\u001b[0m \u001b[38;5;28;01mif\u001b[39;00m input_prediction \u001b[38;5;241m>\u001b[39m \u001b[38;5;241m0.5\u001b[39m:\n",
      "\u001b[1;31mNameError\u001b[0m: name 'model' is not defined"
     ]
    }
   ],
   "source": [
    "import cv2\n",
    "import numpy as np\n",
    "\n",
    "input_image = cv2.imread('6.jpg')\n",
    "\n",
    "# cv2_imshow(input_image)\n",
    "\n",
    "input_image_resized = cv2.resize(input_image, (224,224))\n",
    "\n",
    "input_image_scaled = input_image_resized/255\n",
    "print(input_image_scaled)\n",
    "\n",
    "input_image_reshaped = np.reshape(input_image_scaled, [1,224,224,3])\n",
    "print(input_image_reshaped)\n",
    "input_prediction = model.predict(input_image_reshaped)\n",
    "print(input_prediction)\n",
    "if input_prediction > 0.5:\n",
    "\n",
    "    print(\"Benign\")\n",
    "else:\n",
    "    print('Malignant')"
   ]
  },
  {
   "cell_type": "code",
   "execution_count": null,
   "id": "561956ec",
   "metadata": {},
   "outputs": [
    {
     "name": "stdout",
     "output_type": "stream",
     "text": [
      "[[[0.71372549 0.54901961 0.56470588]\n",
      "  [0.74901961 0.58431373 0.6       ]\n",
      "  [0.75294118 0.58823529 0.60392157]\n",
      "  ...\n",
      "  [0.76862745 0.61176471 0.61568627]\n",
      "  [0.75686275 0.6        0.60392157]\n",
      "  [0.74509804 0.58823529 0.59215686]]\n",
      "\n",
      " [[0.78431373 0.62352941 0.63921569]\n",
      "  [0.81960784 0.65882353 0.6745098 ]\n",
      "  [0.82352941 0.6627451  0.67843137]\n",
      "  ...\n",
      "  [0.85098039 0.69411765 0.69803922]\n",
      "  [0.83921569 0.68235294 0.68627451]\n",
      "  [0.82745098 0.67058824 0.6745098 ]]\n",
      "\n",
      " [[0.76078431 0.60784314 0.61960784]\n",
      "  [0.80392157 0.65098039 0.6627451 ]\n",
      "  [0.80784314 0.65490196 0.66666667]\n",
      "  ...\n",
      "  [0.83529412 0.67843137 0.68235294]\n",
      "  [0.82352941 0.66666667 0.67058824]\n",
      "  [0.81176471 0.65490196 0.65882353]]\n",
      "\n",
      " ...\n",
      "\n",
      " [[0.7372549  0.61568627 0.60392157]\n",
      "  [0.79607843 0.6745098  0.6627451 ]\n",
      "  [0.81568627 0.68235294 0.6745098 ]\n",
      "  ...\n",
      "  [0.84313725 0.69019608 0.69411765]\n",
      "  [0.83137255 0.67843137 0.68235294]\n",
      "  [0.82745098 0.6745098  0.67843137]]\n",
      "\n",
      " [[0.73333333 0.61176471 0.6       ]\n",
      "  [0.78823529 0.66666667 0.65490196]\n",
      "  [0.80784314 0.6745098  0.66666667]\n",
      "  ...\n",
      "  [0.83921569 0.68235294 0.68627451]\n",
      "  [0.82745098 0.67058824 0.6745098 ]\n",
      "  [0.82352941 0.66666667 0.67058824]]\n",
      "\n",
      " [[0.72941176 0.60784314 0.59607843]\n",
      "  [0.78823529 0.66666667 0.65490196]\n",
      "  [0.80784314 0.6745098  0.66666667]\n",
      "  ...\n",
      "  [0.83529412 0.67843137 0.68235294]\n",
      "  [0.82352941 0.66666667 0.67058824]\n",
      "  [0.81960784 0.6627451  0.66666667]]]\n"
     ]
    }
   ],
   "source": []
  },
  {
   "cell_type": "code",
   "execution_count": null,
   "id": "bfdf2a55",
   "metadata": {},
   "outputs": [],
   "source": []
  }
 ],
 "metadata": {
  "kernelspec": {
   "display_name": "Python 3 (ipykernel)",
   "language": "python",
   "name": "python3"
  },
  "language_info": {
   "codemirror_mode": {
    "name": "ipython",
    "version": 3
   },
   "file_extension": ".py",
   "mimetype": "text/x-python",
   "name": "python",
   "nbconvert_exporter": "python",
   "pygments_lexer": "ipython3",
   "version": "3.11.3"
  }
 },
 "nbformat": 4,
 "nbformat_minor": 5
}
